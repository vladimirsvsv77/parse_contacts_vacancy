{
 "cells": [
  {
   "cell_type": "code",
   "execution_count": 1,
   "metadata": {},
   "outputs": [],
   "source": [
    "import requests\n",
    "import pymongo\n",
    "from pymongo import MongoClient\n",
    "import datetime\n",
    "import time\n",
    "import argparse"
   ]
  },
  {
   "cell_type": "code",
   "execution_count": 2,
   "metadata": {
    "collapsed": true
   },
   "outputs": [],
   "source": [
    "client = MongoClient('localhost', 27017)\n",
    "db = client.hhemails3\n",
    "hhemails3 = db.hhemails3"
   ]
  },
  {
   "cell_type": "code",
   "execution_count": 7,
   "metadata": {
    "collapsed": true
   },
   "outputs": [],
   "source": [
    "professions = 'менеджер по продажам or Sales manager or грузчик or Продавец-консультант or Продавец-консультант or повар or пекарь or Специалист колл центр or официант or водитель or продавец'\n",
    "\n",
    "\n",
    "def get_vac_by_day(date):\n",
    "    count = 0\n",
    "    url_vac = 'https://api.hh.ru/vacancies?text=' + professions + '&per_page=100&'\n",
    "    for i in range(23):\n",
    "        start = i\n",
    "        if len(str(start)) == 1:\n",
    "            start = '0' + str(start)\n",
    "        end = i + 1\n",
    "        if len(str(end)) == 1:\n",
    "            end = '0' + str(end)\n",
    "        date_start = date + 'T' + str(start) + ':00:00'\n",
    "        date_end = date + 'T' + str(end) + ':00:00'\n",
    "        req = requests.get(url_vac + 'date_from=' + date_start + '&date_to=' + date_end)\n",
    "        for j in range(req.json()['pages'] + 1):\n",
    "            page_url = 'https://api.hh.ru/vacancies?text=' + professions + '&per_page=100&' + 'page=' + str(j) + '&'\n",
    "            req = requests.get(page_url + 'date_from=' + date_start + '&date_to=' + date_end)            \n",
    "            try:\n",
    "                count += len(req.json()['items'])\n",
    "                for k in req.json()['items']:\n",
    "                    vac_id = k['id']\n",
    "                    try:\n",
    "                        req = requests.get('https://api.hh.ru/vacancies/' + str(vac_id)).json()\n",
    "                        email = req['contacts']['email']\n",
    "                        if email is not None:\n",
    "                            vac_href = req['alternate_url']\n",
    "                            try:\n",
    "                                phones = req['contacts']['phones'][0] \n",
    "                                phone = phones['country'] + phones['city'] + phones['number']\n",
    "                            except:\n",
    "                                phone = ''\n",
    "                            try:\n",
    "                                name = req['contacts']['name']\n",
    "                            except:\n",
    "                                name = ''\n",
    "                            try:\n",
    "                                city = req['address']['city']\n",
    "                            except:\n",
    "                                city = ''\n",
    "                            try:\n",
    "                                vac_name =req['name']\n",
    "                            except:\n",
    "                                vac_name = ''\n",
    "                            empl = {\n",
    "                                \"qid\": str(start),\n",
    "                                \"email\": email,\n",
    "                                \"vac\": vac_name,\n",
    "                                \"phone\": phone,\n",
    "                                \"name\": name,\n",
    "                                \"city\": city,\n",
    "                                \"vac_href\": vac_href\n",
    "                            }\n",
    "                            hhemails3.insert_one(empl)\n",
    "                    except:\n",
    "                        pass\n",
    "            except:\n",
    "                print(req.json())"
   ]
  },
  {
   "cell_type": "code",
   "execution_count": 4,
   "metadata": {
    "collapsed": true
   },
   "outputs": [],
   "source": [
    "req = requests.get('https://api.hh.ru/vacancies/' + str(26038141)).json()"
   ]
  },
  {
   "cell_type": "code",
   "execution_count": 23,
   "metadata": {},
   "outputs": [
    {
     "name": "stdout",
     "output_type": "stream",
     "text": [
      "74952343661\n"
     ]
    }
   ],
   "source": [
    "phones = req['contacts']['phones'][0] \n",
    "phone = phones['country'] + phones['city'] + phones['number']\n",
    "print(phone)"
   ]
  },
  {
   "cell_type": "code",
   "execution_count": 21,
   "metadata": {},
   "outputs": [
    {
     "data": {
      "text/plain": [
       "'Круглова Анна Эдуардовна'"
      ]
     },
     "execution_count": 21,
     "metadata": {},
     "output_type": "execute_result"
    }
   ],
   "source": [
    "req['contacts']['name']"
   ]
  },
  {
   "cell_type": "code",
   "execution_count": 16,
   "metadata": {},
   "outputs": [
    {
     "data": {
      "text/plain": [
       "'Москва'"
      ]
     },
     "execution_count": 16,
     "metadata": {},
     "output_type": "execute_result"
    }
   ],
   "source": [
    "req['address']['city']"
   ]
  },
  {
   "cell_type": "code",
   "execution_count": 18,
   "metadata": {},
   "outputs": [
    {
     "data": {
      "text/plain": [
       "'https://career.ru/vacancy/26038141'"
      ]
     },
     "execution_count": 18,
     "metadata": {},
     "output_type": "execute_result"
    }
   ],
   "source": [
    "req['alternate_url']"
   ]
  },
  {
   "cell_type": "code",
   "execution_count": 24,
   "metadata": {},
   "outputs": [
    {
     "data": {
      "text/plain": [
       "'https://hh.ru/employer/10096'"
      ]
     },
     "execution_count": 24,
     "metadata": {},
     "output_type": "execute_result"
    }
   ],
   "source": [
    "req['employer']['alternate_url']"
   ]
  },
  {
   "cell_type": "code",
   "execution_count": 6,
   "metadata": {},
   "outputs": [
    {
     "data": {
      "text/plain": [
       "'Менеджер по продажам (B2B)'"
      ]
     },
     "execution_count": 6,
     "metadata": {},
     "output_type": "execute_result"
    }
   ],
   "source": [
    "req['name']"
   ]
  },
  {
   "cell_type": "code",
   "execution_count": 2,
   "metadata": {
    "collapsed": true
   },
   "outputs": [],
   "source": [
    "client = MongoClient('localhost', 27017)\n",
    "db = client.hhemails3\n",
    "hhemails3 = db.hhemails3"
   ]
  },
  {
   "cell_type": "code",
   "execution_count": 3,
   "metadata": {},
   "outputs": [
    {
     "data": {
      "text/plain": [
       "312"
      ]
     },
     "execution_count": 3,
     "metadata": {},
     "output_type": "execute_result"
    }
   ],
   "source": [
    "hhemails3.count()"
   ]
  },
  {
   "cell_type": "code",
   "execution_count": null,
   "metadata": {
    "collapsed": true
   },
   "outputs": [],
   "source": [
    "get_vac_by_day('2018-06-01')"
   ]
  },
  {
   "cell_type": "code",
   "execution_count": 4,
   "metadata": {},
   "outputs": [
    {
     "data": {
      "text/plain": [
       "Collection(Database(MongoClient(host=['localhost:27017'], document_class=dict, tz_aware=False, connect=True), 'hhemails3'), 'hhemails3.0')"
      ]
     },
     "execution_count": 4,
     "metadata": {},
     "output_type": "execute_result"
    }
   ],
   "source": [
    "hhemails3[0]"
   ]
  },
  {
   "cell_type": "code",
   "execution_count": null,
   "metadata": {
    "collapsed": true
   },
   "outputs": [],
   "source": [
    "count = 0\n",
    "for i in hhemails3.find():\n",
    "    if i['email'] is not None:\n",
    "        write_to_file(i['email'])\n",
    "        "
   ]
  },
  {
   "cell_type": "code",
   "execution_count": 4,
   "metadata": {},
   "outputs": [
    {
     "data": {
      "text/plain": [
       "{'_id': ObjectId('5b1e5cd265fc9255a827372e'),\n",
       " 'city': '',\n",
       " 'email': 'jobsib@lenta.com',\n",
       " 'name': 'Единый центр НСК',\n",
       " 'phone': '78007700030',\n",
       " 'qid': '00',\n",
       " 'vac': 'Менеджер по продажам (улица Власихинская)',\n",
       " 'vac_href': 'https://hh.ru/vacancy/25910623'}"
      ]
     },
     "execution_count": 4,
     "metadata": {},
     "output_type": "execute_result"
    }
   ],
   "source": [
    "hhemails3.find()[1]"
   ]
  },
  {
   "cell_type": "code",
   "execution_count": 8,
   "metadata": {
    "collapsed": true
   },
   "outputs": [],
   "source": [
    "hhemails3.drop()"
   ]
  },
  {
   "cell_type": "code",
   "execution_count": null,
   "metadata": {
    "collapsed": true
   },
   "outputs": [],
   "source": []
  }
 ],
 "metadata": {
  "kernelspec": {
   "display_name": "Python 3",
   "language": "python",
   "name": "python3"
  },
  "language_info": {
   "codemirror_mode": {
    "name": "ipython",
    "version": 3
   },
   "file_extension": ".py",
   "mimetype": "text/x-python",
   "name": "python",
   "nbconvert_exporter": "python",
   "pygments_lexer": "ipython3",
   "version": "3.6.3"
  }
 },
 "nbformat": 4,
 "nbformat_minor": 2
}
